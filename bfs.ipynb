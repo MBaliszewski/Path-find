{
 "cells": [
  {
   "cell_type": "code",
   "execution_count": 80,
   "metadata": {},
   "outputs": [
    {
     "name": "stdout",
     "output_type": "stream",
     "text": [
      "1\tFalse\n",
      "2\t(True, [2, 3, 7, 2])\n",
      "3\t(True, [3, 7, 2, 3])\n",
      "4\tFalse\n",
      "5\tFalse\n",
      "6\tFalse\n",
      "7\t(True, [7, 2, 3, 7])\n"
     ]
    }
   ],
   "source": [
    "graph = [\n",
    "    [0],\n",
    "    [3],\n",
    "    [3],\n",
    "    [5, 7],\n",
    "    [],\n",
    "    [],\n",
    "    [],\n",
    "    [2, 4, 6]]\n",
    "\n",
    "graph1 = {1:[3], 2:[3], 3:[5, 7], 7:[2, 4, 6]}\n",
    "\n",
    "def retrive_path(p, s, e):\n",
    "    path = [s]\n",
    "\n",
    "    while e != s:\n",
    "        path.append(e)\n",
    "        e = p[e]\n",
    "\n",
    "    path.append(s)\n",
    "    path.reverse()\n",
    "    return path\n",
    "\n",
    "# bfs zmodyfikowany do wyszukiwania cyklu z wierzchołkiem początkowym\n",
    "def find_cycle_with_n(g, n):\n",
    "    queue = []\n",
    "    visited = {}\n",
    "    prev = {}\n",
    "\n",
    "    queue.append(n)\n",
    "\n",
    "    visited[n] = True\n",
    "    prev[n] = -1\n",
    "\n",
    "    while len(queue) > 0:\n",
    "\n",
    "        v = queue.pop(0)\n",
    "\n",
    "        if v in g:\n",
    "            for u in g[v]:\n",
    "                if u == n:\n",
    "                    return True, retrive_path(prev, n, v)\n",
    "                if u not in visited:\n",
    "                    queue.append(u)\n",
    "                    visited[u] = True\n",
    "                    prev[u] = v\n",
    "    return False\n",
    "\n",
    "for i in range(1, 8):\n",
    "    print(f'{i}\\t{find_cycle_with_n(graph1, i)}')"
   ]
  },
  {
   "cell_type": "code",
   "execution_count": 26,
   "metadata": {},
   "outputs": [
    {
     "name": "stdout",
     "output_type": "stream",
     "text": [
      "1\tTrue\n",
      "2\tTrue\n",
      "3\tTrue\n",
      "4\tFalse\n",
      "5\tFalse\n",
      "6\tFalse\n"
     ]
    }
   ],
   "source": [
    "graph = [\n",
    "    [0],\n",
    "    [3],\n",
    "    [3],\n",
    "    [5, 7],\n",
    "    [],\n",
    "    [],\n",
    "    [],\n",
    "    [2, 4, 6]]\n",
    "graph2 = [[], [2, 4], [1, 3, 5], [2, 4, 6], [1, 3], [2, 6], [3, 5]]\n",
    "graph1 = {1:[3], 2:[3], 3:[5, 7], 7:[2, 4, 6]}\n",
    "\n",
    "# bfs zmodyfikowany do wyszukiwania cyklu\n",
    "def find_cycle(g, n):\n",
    "    queue = []\n",
    "    visited = {}\n",
    "    queue.append(n)\n",
    "\n",
    "    visited[n] = True\n",
    "\n",
    "    while len(queue) > 0:\n",
    "\n",
    "        v = queue.pop(0)\n",
    "        \n",
    "        if v in g:\n",
    "            for u in g[v]:\n",
    "                if u in visited:\n",
    "                    return True\n",
    "                else:\n",
    "                    queue.append(u)\n",
    "                    visited[u] = True\n",
    "\n",
    "    return False\n",
    "\n",
    "#find_cycle(graph1, 1)\n",
    "for i in range(1, 7):\n",
    "    print(f'{i}\\t{find_cycle(graph1, i)}')"
   ]
  },
  {
   "cell_type": "code",
   "execution_count": null,
   "metadata": {},
   "outputs": [],
   "source": [
    "graph = [\n",
    "    [0],\n",
    "    [3],\n",
    "    [3],\n",
    "    [5, 7],\n",
    "    [],\n",
    "    [],\n",
    "    [],\n",
    "    [2, 4, 6]]\n",
    "\n",
    "# algorytm bfs\n",
    "def bfs(g, n):\n",
    "    queue = []\n",
    "    visited = {}\n",
    "    queue.append(n)\n",
    "\n",
    "    visited[n] = True\n",
    "\n",
    "    while len(queue) > 0:\n",
    "        print('******')\n",
    "        print(queue)\n",
    "        print(visited)\n",
    "\n",
    "        v = queue.pop(0)\n",
    "\n",
    "        for u in graph[v]:\n",
    "            if u not in visited:\n",
    "                queue.append(u)\n",
    "                visited[u] = True\n",
    "\n",
    "bfs(graph, 1)"
   ]
  },
  {
   "cell_type": "code",
   "execution_count": 81,
   "metadata": {},
   "outputs": [
    {
     "data": {
      "text/plain": [
       "{1: [3], 3: [5, 7], 2: [3], 7: [2, 6, 4]}"
      ]
     },
     "execution_count": 81,
     "metadata": {},
     "output_type": "execute_result"
    }
   ],
   "source": [
    "def read_graph(file_name):\n",
    "    file = open(file_name, 'r')\n",
    "    graph = {}\n",
    "\n",
    "    for line in file:\n",
    "        s1, s2 = line.split()\n",
    "        n1, n2 = int(s1), int(s2)\n",
    "        if n1 in graph:\n",
    "            graph[n1].append(n2)\n",
    "        else:\n",
    "            graph[n1] = [n2]\n",
    "\n",
    "    return graph\n",
    "\n",
    "read_graph('dane/graf.txt')"
   ]
  },
  {
   "cell_type": "code",
   "execution_count": 84,
   "metadata": {},
   "outputs": [
    {
     "data": {
      "text/plain": [
       "(True, [89, 15, 8, 89])"
      ]
     },
     "execution_count": 84,
     "metadata": {},
     "output_type": "execute_result"
    }
   ],
   "source": [
    "g = read_graph('dane/Wiki-Vote.txt')\n",
    "\n",
    "find_cycle_with_n(g, 89)"
   ]
  }
 ],
 "metadata": {
  "kernelspec": {
   "display_name": "Python 3",
   "language": "python",
   "name": "python3"
  },
  "language_info": {
   "codemirror_mode": {
    "name": "ipython",
    "version": 3
   },
   "file_extension": ".py",
   "mimetype": "text/x-python",
   "name": "python",
   "nbconvert_exporter": "python",
   "pygments_lexer": "ipython3",
   "version": "3.10.0"
  }
 },
 "nbformat": 4,
 "nbformat_minor": 2
}
